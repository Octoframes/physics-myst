{
 "cells": [
  {
   "cell_type": "code",
   "execution_count": 24,
   "metadata": {},
   "outputs": [],
   "source": [
    "from manim import *\n",
    "from manim_mobject_svg import *\n",
    "config.media_embed = True\n",
    "param= \"-v WARNING  --progress_bar None --format=gif  -r  500,200  --disable_caching Example\"\n",
    "# param= \"-v WARNING  --progress_bar None   -r  500,200 --fps=23 --disable_caching Example\"\n",
    "stix2 = TexTemplate()\n",
    "stix2.add_to_preamble(r\"\\usepackage{stix2}\", prepend= True)\n",
    "def TexS(*tex_strings, **kwargs):\n",
    "    return Tex(*tex_strings, tex_template=stix2,  **kwargs)\n",
    "def MathTexS(*tex_strings, **kwargs):\n",
    "    return MathTex(*tex_strings,tex_template=stix2, **kwargs)\n"
   ]
  },
  {
   "cell_type": "code",
   "execution_count": 25,
   "metadata": {},
   "outputs": [
    {
     "data": {
      "image/svg+xml": [
       "<?xml version=\"1.0\" encoding=\"UTF-8\"?>\n",
       "<svg xmlns=\"http://www.w3.org/2000/svg\" xmlns:xlink=\"http://www.w3.org/1999/xlink\" width=\"330pt\" height=\"330pt\" viewBox=\"0 0 330 330\" version=\"1.1\">\n",
       "<g id=\"surface86\">\n",
       "<path style=\"fill:none;stroke-width:0.04;stroke-linecap:butt;stroke-linejoin:miter;stroke:rgb(34.509804%,76.862745%,86.666667%);stroke-opacity:1;stroke-miterlimit:10;\" d=\"M 1.200001 1.200001 C 0.40001 1.200001 -0.40001 1.200001 -1.200001 1.200001 C -1.200001 0.40001 -1.200001 -0.40001 -1.200001 -1.200001 C -0.40001 -1.200001 0.40001 -1.200001 1.200001 -1.200001 C 1.200001 -0.40001 1.200001 0.40001 1.200001 1.200001 Z M 1.200001 1.200001 \" transform=\"matrix(134.693878,0,0,-134.693878,165,165)\"/>\n",
       "<path style=\" stroke:none;fill-rule:nonzero;fill:rgb(34.509804%,76.862745%,86.666667%);fill-opacity:1;\" d=\"M 121.898438 218.878906 C 121.898438 216.054688 120.738281 213.253906 118.742188 211.257812 C 116.746094 209.261719 113.945312 208.101562 111.121094 208.101562 C 108.300781 208.101562 105.496094 209.261719 103.503906 211.257812 C 101.507812 213.253906 100.347656 216.054688 100.347656 218.878906 C 100.347656 221.699219 101.507812 224.503906 103.503906 226.496094 C 105.496094 228.492188 108.300781 229.652344 111.121094 229.652344 C 113.945312 229.652344 116.746094 228.492188 118.742188 226.496094 C 120.738281 224.503906 121.898438 221.699219 121.898438 218.878906 Z M 121.898438 218.878906 \"/>\n",
       "<path style=\"fill:none;stroke-width:0.05;stroke-linecap:butt;stroke-linejoin:miter;stroke:rgb(34.509804%,76.862745%,86.666667%);stroke-opacity:1;stroke-miterlimit:10;\" d=\"M -0.40001 -0.40001 C -0.40001 -0.149993 -0.40001 0.0999953 -0.40001 0.350012 \" transform=\"matrix(134.693878,0,0,-134.693878,165,165)\"/>\n",
       "<path style=\" stroke:none;fill-rule:nonzero;fill:rgb(34.509804%,76.862745%,86.666667%);fill-opacity:1;\" d=\"M 111.121094 84.183594 C 105.511719 95.40625 99.898438 106.632812 94.285156 117.855469 C 105.511719 117.855469 116.734375 117.855469 127.960938 117.855469 C 122.347656 106.632812 116.734375 95.40625 111.121094 84.183594 Z M 111.121094 84.183594 \"/>\n",
       "<path style=\"fill:none;stroke-width:0.05;stroke-linecap:butt;stroke-linejoin:miter;stroke:rgb(34.509804%,76.862745%,86.666667%);stroke-opacity:1;stroke-miterlimit:10;\" d=\"M -0.40001 -0.40001 C -0.149993 -0.40001 0.0999953 -0.40001 0.350012 -0.40001 \" transform=\"matrix(134.693878,0,0,-134.693878,165,165)\"/>\n",
       "<path style=\" stroke:none;fill-rule:nonzero;fill:rgb(34.509804%,76.862745%,86.666667%);fill-opacity:1;\" d=\"M 245.816406 218.878906 C 234.59375 213.265625 223.367188 207.652344 212.144531 202.039062 C 212.144531 213.265625 212.144531 224.488281 212.144531 235.714844 C 223.367188 230.101562 234.59375 224.488281 245.816406 218.878906 Z M 245.816406 218.878906 \"/>\n",
       "<path style=\" stroke:none;fill-rule:nonzero;fill:rgb(0%,0%,0%);fill-opacity:1;\" d=\"M 113.816406 218.878906 C 113.816406 218.171875 113.527344 217.472656 113.027344 216.972656 C 112.527344 216.472656 111.828125 216.183594 111.121094 216.183594 C 110.417969 216.183594 109.714844 216.472656 109.21875 216.972656 C 108.71875 217.472656 108.429688 218.171875 108.429688 218.878906 C 108.429688 219.582031 108.71875 220.285156 109.21875 220.78125 C 109.714844 221.28125 110.417969 221.570312 111.121094 221.570312 C 111.828125 221.570312 112.527344 221.28125 113.027344 220.78125 C 113.527344 220.285156 113.816406 219.582031 113.816406 218.878906 Z M 113.816406 218.878906 \"/>\n",
       "<path style=\"fill:none;stroke-width:0.04;stroke-linecap:butt;stroke-linejoin:miter;stroke:rgb(0%,0%,0%);stroke-opacity:1;stroke-miterlimit:10;\" d=\"M -0.40001 -0.40001 C -0.166668 -0.40001 0.0666732 -0.40001 0.299986 -0.40001 \" transform=\"matrix(134.693878,0,0,-134.693878,165,165)\"/>\n",
       "<path style=\"fill:none;stroke-width:0.04;stroke-linecap:butt;stroke-linejoin:miter;stroke:rgb(0%,0%,0%);stroke-opacity:1;stroke-miterlimit:10;\" d=\"M -0.40001 -0.40001 C -0.233342 -0.111335 -0.0666732 0.177341 0.0999953 0.466016 \" transform=\"matrix(134.693878,0,0,-134.693878,165,165)\"/>\n",
       "<path style=\" stroke:none;fill-rule:nonzero;fill:rgb(0%,0%,0%);fill-opacity:1;\" d=\"M 117.808594 145.777344 C 118.949219 140.921875 120.089844 136.070312 121.230469 131.214844 C 120.738281 131.214844 120.246094 131.214844 119.753906 131.214844 C 116.648438 131.460938 113.539062 131.707031 110.429688 131.953125 C 110.429688 132.558594 110.429688 133.160156 110.429688 133.765625 C 110.429688 133.765625 111.769531 133.632812 112.507812 133.632812 C 114.386719 133.632812 114.722656 134.371094 114.722656 135.644531 C 114.722656 136.851562 114.386719 138.597656 114.121094 139.804688 C 112.464844 147.585938 110.808594 155.371094 109.152344 163.152344 C 111.054688 163.152344 112.957031 163.152344 114.855469 163.152344 C 115.527344 160.023438 116.199219 156.890625 116.871094 153.761719 C 117.945312 151.078125 123.980469 136.652344 127.203125 136.652344 C 127.402344 136.652344 128.074219 139.132812 130.222656 139.132812 C 131.964844 139.132812 133.777344 137.859375 133.777344 134.90625 C 133.777344 132.289062 132.167969 131.015625 130.019531 131.015625 C 124.652344 131.015625 120.628906 141.28125 118.480469 145.777344 C 118.257812 145.777344 118.035156 145.777344 117.808594 145.777344 Z M 117.808594 145.777344 \"/>\n",
       "<path style=\"fill:none;stroke-width:0.04;stroke-linecap:butt;stroke-linejoin:miter;stroke:rgb(0%,0%,0%);stroke-opacity:1;stroke-miterlimit:10;\" d=\"M 0.0999953 -0.40001 C 0.0999953 -0.378172 0.0985742 -0.356364 0.0957321 -0.334729 C 0.092861 -0.313094 0.0885979 -0.291663 0.0829717 -0.270579 C 0.0773165 -0.249524 0.0702983 -0.228817 0.061946 -0.208662 C 0.0535938 -0.188506 0.0439074 -0.168902 0.0330031 -0.149993 C 0.0220987 -0.131113 0.00994732 -0.11293 -0.00333511 -0.0956161 C -0.0166175 -0.0783026 -0.031031 -0.061859 -0.0464595 -0.0464595 C -0.061859 -0.031031 -0.0783026 -0.0166175 -0.0956161 -0.00333511 C -0.11293 0.00994732 -0.131113 0.0220987 -0.149993 0.0330031 \" transform=\"matrix(134.693878,0,0,-134.693878,165,165)\"/>\n",
       "<path style=\" stroke:none;fill-rule:nonzero;fill:rgb(0%,0%,0%);fill-opacity:1;\" d=\"M 221.886719 160.335938 C 221.886719 153.492188 217.726562 148.863281 210.277344 148.59375 C 211.53125 143.964844 212.785156 139.335938 214.035156 134.707031 C 213.902344 134.617188 213.765625 134.527344 213.632812 134.4375 C 211.753906 134.484375 209.875 134.527344 207.996094 134.574219 C 207.238281 139.335938 206.476562 144.101562 205.714844 148.863281 C 194.644531 150.609375 186.996094 158.660156 186.996094 170 C 186.996094 176.707031 191.894531 181.203125 198.738281 181.671875 C 197.507812 186.257812 196.277344 190.84375 195.046875 195.425781 C 195.359375 195.472656 195.675781 195.515625 195.988281 195.5625 C 200.75 195.5625 202.160156 192.945312 203.300781 181.539062 C 213.632812 180.195312 221.886719 172.414062 221.886719 160.335938 Z M 190.148438 167.984375 C 190.148438 158.660156 197.53125 155.035156 204.84375 154.230469 C 203.324219 161.457031 201.800781 168.679688 200.28125 175.902344 C 195.71875 175.769531 190.148438 173.757812 190.148438 167.984375 Z M 218.730469 162.550781 C 218.730469 171.273438 211.417969 175.03125 204.238281 175.769531 C 205.738281 168.566406 207.238281 161.367188 208.734375 154.164062 C 215.042969 154.699219 218.730469 157.71875 218.730469 162.550781 Z M 218.730469 162.550781 \"/>\n",
       "<path style=\" stroke:none;fill-rule:nonzero;fill:rgb(100%,52.54902%,18.431373%);fill-opacity:1;\" d=\"M 189.246094 102.230469 C 189.246094 99.410156 188.082031 96.605469 186.089844 94.609375 C 184.09375 92.613281 181.289062 91.453125 178.46875 91.453125 C 175.648438 91.453125 172.84375 92.613281 170.851562 94.609375 C 168.855469 96.605469 167.695312 99.410156 167.695312 102.230469 C 167.695312 105.050781 168.855469 107.855469 170.851562 109.847656 C 172.84375 111.84375 175.648438 113.003906 178.46875 113.003906 C 181.289062 113.003906 184.09375 111.84375 186.089844 109.847656 C 188.082031 107.855469 189.246094 105.050781 189.246094 102.230469 Z M 189.246094 102.230469 \"/>\n",
       "</g>\n",
       "</svg>\n"
      ],
      "text/plain": [
       "VGroup(Square, VGroup of 3 submobjects, VGroup of 5 submobjects)"
      ]
     },
     "execution_count": 25,
     "metadata": {},
     "output_type": "execute_result"
    }
   ],
   "source": [
    "g = VGroup(Square().scale(1.2))\n",
    "g.set_color(BLUE)\n",
    "coordinate_system = VGroup(Dot([0,0,0]),Arrow(ORIGIN, 1*UP, buff=0), Arrow(ORIGIN, 1*RIGHT, buff=0 )).shift((DOWN+LEFT)*0.4)\n",
    "coordinate_system.set_color(BLUE)\n",
    "\n",
    "CENTER_POLAR = coordinate_system.submobjects[0].get_center()\n",
    "small_dot = Dot(color=BLACK, point=CENTER_POLAR, radius=0.02) \n",
    "line1 = Line(CENTER_POLAR,CENTER_POLAR+ 0.7*RIGHT).set_color(BLACK)\n",
    "\n",
    "def make_moving_objects(rr, tt):\n",
    "    moving_line = Line(CENTER_POLAR,CENTER_POLAR+ rr * UP).set_color(BLACK).rotate(-tt * DEGREES, about_point=CENTER_POLAR)\n",
    "    do = Dot(moving_line.get_end(), color=ORANGE , z_index=10)\n",
    "    rval= MathTexS(\"r\" , color=BLACK)\n",
    "    rval.move_to(moving_line.get_center()+moving_line.copy().rotate(PI / 2).get_unit_vector()*0.2)\n",
    "    a = Angle(line1, moving_line, radius=0.5, other_angle=False , color=BLACK)\n",
    "    te = MathTexS(r\"\\phi\",  color=BLACK).move_to(\n",
    "        Angle(\n",
    "            line1, moving_line, radius=0.5 + 3 * SMALL_BUFF, other_angle=False \n",
    "        ).point_from_proportion(0.5)\n",
    "    )\n",
    "    return moving_line,do, rval,  a, te\n",
    "\n",
    "moving_line,do, rval,  a, te = make_moving_objects(1, 30)\n",
    "\n",
    "\n",
    "g += VGroup(coordinate_system,small_dot,line1)\n",
    "g += VGroup(moving_line,do, rval,  a, te)\n",
    "g"
   ]
  },
  {
   "cell_type": "code",
   "execution_count": 7,
   "metadata": {},
   "outputs": [
    {
     "data": {
      "text/html": [
       "<video controls autoplay loop style=\"max-width: 60%;\"  >\n",
       " <source src=\"data:video/mp4;base64,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\" type=\"video/mp4\">\n",
       " Your browser does not support the video tag.\n",
       " </video>"
      ],
      "text/plain": [
       "<IPython.core.display.Video object>"
      ]
     },
     "metadata": {},
     "output_type": "display_data"
    }
   ],
   "source": [
    "%%manim  -v WARNING -ql  --progress_bar None  --disable_caching BBB\n",
    "\n",
    "class BBB(Scene):\n",
    "    def construct(self):\n",
    "        gx = g.copy()\n",
    "        self.add(gx)\n",
    "        moving_objects = gx[2]\n",
    "        self.camera.background_color =WHITE\n",
    "        r_tracker=  ValueTracker(0)\n",
    "        theta_tracker = ValueTracker(49)\n",
    "        self.wait(0.1)\n",
    "\n",
    "        def my_upd(mob):\n",
    "            mob[0].become(Line(CENTER_POLAR, CENTER_POLAR+ (1+r_tracker.get_value()) * RIGHT).rotate((theta_tracker.get_value()) * DEGREES, about_point=CENTER_POLAR))\n",
    "            mob[0].set_color(BLACK)\n",
    "            # gr= VGroup(dl,Dot(dl.get_end()))\n",
    "            # rval.move_to(dl.get_center()+dl.copy().rotate(PI / 2).get_unit_vector()*0.2)\n",
    "            # mob.become(gr)\n",
    "        moving_objects.add_updater( my_upd)\n",
    "        \n",
    "        # line_moving.add_updater(my_upd)\n",
    "\n",
    "        \n",
    "        # a.add_updater(\n",
    "        #     lambda x: x.become(Angle(line1, line_moving, radius=0.5, other_angle=False))\n",
    "        # )\n",
    "        # te.add_updater(\n",
    "        #     lambda x: x.move_to(\n",
    "        #         Angle(\n",
    "        #             line1, line_moving, radius=0.5 + 3 * SMALL_BUFF, other_angle=False\n",
    "        #         ).point_from_proportion(0.5)\n",
    "        #     )\n",
    "        # )\n",
    "        # self.add(g.scale(2))\n",
    "\n",
    "        # self.play(r_tracker.animate.set_value(1))\n",
    "        # self.play(r_tracker.animate.set_value(0.2))\n",
    "        # self.wait(0.1)\n",
    "        self.play(theta_tracker.animate.set_value(130))\n",
    "        # self.play(theta_tracker.animate.set_value(49))"
   ]
  },
  {
   "cell_type": "code",
   "execution_count": null,
   "metadata": {},
   "outputs": [],
   "source": []
  }
 ],
 "metadata": {
  "kernelspec": {
   "display_name": "napari-env2",
   "language": "python",
   "name": "python3"
  },
  "language_info": {
   "codemirror_mode": {
    "name": "ipython",
    "version": 3
   },
   "file_extension": ".py",
   "mimetype": "text/x-python",
   "name": "python",
   "nbconvert_exporter": "python",
   "pygments_lexer": "ipython3",
   "version": "3.9.15"
  },
  "orig_nbformat": 4
 },
 "nbformat": 4,
 "nbformat_minor": 2
}
