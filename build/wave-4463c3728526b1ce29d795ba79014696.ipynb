{
 "cells": [
  {
   "cell_type": "code",
   "execution_count": null,
   "metadata": {},
   "outputs": [],
   "source": [
    "from manim import *\n",
    "config.media_embed = True\n",
    "param= \"-v WARNING  --progress_bar None --format=gif  -r  500,200  --disable_caching Example\"\n",
    "# param= \"-v WARNING  --progress_bar None   -r  500,200  --disable_caching Example\""
   ]
  },
  {
   "cell_type": "code",
   "execution_count": 12,
   "metadata": {},
   "outputs": [],
   "source": [
    "dispersion = \"high\" # \"high\", \"low\", \"const\"\n",
    "def n(wj):\n",
    "    if dispersion == \"high\":\n",
    "        return 1 + wj * 0.1\n",
    "    if dispersion == \"low\":\n",
    "        return 1.1 - wj * 0.01\n",
    "    if dispersion == \"const\":\n",
    "        return 1\n",
    "\n",
    "c = 1\n",
    "num_of_waves = 121\n",
    "start_w = 1\n",
    "end_w = 7\n",
    "x = np.linspace(-2, 10, 1001)\n",
    "\n",
    "def g(x, t):\n",
    "    u1 = 0\n",
    "    for wj in np.linspace(start_w, end_w, num_of_waves):\n",
    "        u1 += np.exp(1j * (wj * n(wj) / c * x - t * wj))\n",
    "    return u1.real\n"
   ]
  },
  {
   "cell_type": "code",
   "execution_count": 22,
   "metadata": {},
   "outputs": [
    {
     "data": {
      "image/png": "[encoded data removed]",
      "text/plain": [
       "<IPython.core.display.Image object>"
      ]
     },
     "metadata": {},
     "output_type": "display_data"
    }
   ],
   "source": [
    "#| label: my-wave1\n",
    "\n",
    "class Example(Scene):\n",
    "    def construct(self):\n",
    "       mob = ParametricFunction(lambda x: [x, g(x,1)*0.03, 0], t_range=[-2, 10],stroke_width=20, color=RED)  \n",
    "       self.add(mob.move_to(ORIGIN))\n",
    "\n",
    "\n",
    "%manim $param "
   ]
  },
  {
   "cell_type": "code",
   "execution_count": null,
   "metadata": {},
   "outputs": [],
   "source": []
  }
 ],
 "metadata": {
  "kernelspec": {
   "display_name": ".venv",
   "language": "python",
   "name": "python3"
  },
  "language_info": {
   "codemirror_mode": {
    "name": "ipython",
    "version": 3
   },
   "file_extension": ".py",
   "mimetype": "text/x-python",
   "name": "python",
   "nbconvert_exporter": "python",
   "pygments_lexer": "ipython3",
   "version": "3.9.15"
  },
  "orig_nbformat": 4,
  "vscode": {
   "interpreter": {
    "hash": "b3f4cb8c3b1cb052244e6fa59e4919aec18953bfa4eaf08dbc386fb086a96738"
   }
  }
 },
 "nbformat": 4,
 "nbformat_minor": 2
}
